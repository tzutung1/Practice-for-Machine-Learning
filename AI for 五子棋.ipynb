{
 "cells": [
  {
   "cell_type": "code",
   "execution_count": null,
   "metadata": {},
   "outputs": [],
   "source": [
    "from sklearn import datasets\n",
    "digits = datasets.load_digits()\n",
    "print(digits.DESCR)\n",
    "\n",
    "digits.target\n",
    "\n",
    "digits.data.shape\n",
    "\n",
    "digits.images[0]\n",
    "\n",
    "import matplotlib.pyplot as plt\n",
    "plt.imshow(digits.images[0], cmap=plt.cm.gray_r, interpolation='nearest')\n",
    "plt.title('one of the 1797 handwritten digits')\n",
    "plt.savefig('plot1.png', dpi=100, bbox_inches='tight')\n",
    "\n",
    "import numpy as np \n",
    "plt.figure(figsize=(15,4))\n",
    "plt.subplots_adjust(hspace=0.8)images_and_labels = list(zip(digits.images, digits.target)) \n",
    "for index, (image, label) in enumerate(images_and_labels[:10]):                                    \n",
    "    plt.subplot(2, 5, index + 1)    \n",
    "    plt.imshow(image, cmap=plt.cm.gray_r, interpolation='nearest') \n",
    "    plt.title('Training: %i' % label, fontsize =12)\n",
    "plt.savefig('plot2.png', dpi=300, bbox_inches='tight')\n",
    "\n",
    "n = len(digits.images)\n",
    "print(n)\n",
    "data = digits.images.reshape((n, -1))\n"
   ]
  },
  {
   "cell_type": "markdown",
   "metadata": {},
   "source": [
    "Machine Learning"
   ]
  },
  {
   "cell_type": "code",
   "execution_count": null,
   "metadata": {},
   "outputs": [],
   "source": [
    "#import svm model\n",
    "from sklearn import svm\n",
    "#Create a SVMClassifier\n",
    "svc = svm.SVC(gamma=0.001, C=100.)\n",
    "\n",
    "from sklearn.model_selection import train_test_split\n",
    "x_train, x_test, y_train, y_test = train_test_split(data, digits.target, test_size=0.01, random_state=0)\n",
    "\n",
    "svc.fit(x_train, y_train)\n",
    "\n",
    "y_pred = svc.predict(x_test)\n",
    "y_pred\n",
    "\n",
    "images_and_predictions = list(zip(x_test,y_pred))\n",
    "plt.figure(figsize=(18,5))\n",
    "for index, (image, prediction) in enumerate(images_and_predictions[:19]):\n",
    "     plt.subplot(2, 9, index + 1)\n",
    "     image = image.reshape(8, 8)\n",
    "     plt.imshow(image, cmap=plt.cm.gray_r, interpolation='nearest')\n",
    "     plt.title('Prediction: %i' % prediction)\n",
    "# save the figure\n",
    "plt.savefig('plot3.png', dpi=300, bbox_inches='tight')"
   ]
  },
  {
   "cell_type": "code",
   "execution_count": null,
   "metadata": {},
   "outputs": [],
   "source": [
    "#For Confusion Matrix\n",
    "from sklearn.metrics import confusion_matrix\n",
    "import pandas as pd\n",
    "import seaborn as sn \n",
    "data = confusion_matrix(y_test, y_pred)\n",
    "df_cm = pd.DataFrame(data, columns=np.unique(y_test), index = np.unique(y_test))\n",
    "df_cm.index.name = 'Actual'\n",
    "df_cm.columns.name = 'Predicted' \n",
    "plt.figure(figsize = (10,10))\n",
    "sn.set(font_scale=1.4)#for label size\n",
    "plt.title('Confusion Matrix')\n",
    "sn.heatmap(df_cm, annot=True,annot_kws={\"size\": 12})# font size"
   ]
  }
 ],
 "metadata": {
  "language_info": {
   "name": "python"
  }
 },
 "nbformat": 4,
 "nbformat_minor": 2
}
